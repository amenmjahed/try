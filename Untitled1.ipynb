{
  "nbformat": 4,
  "nbformat_minor": 0,
  "metadata": {
    "colab": {
      "name": "Untitled1.ipynb",
      "provenance": []
    },
    "kernelspec": {
      "name": "python3",
      "display_name": "Python 3"
    },
    "language_info": {
      "name": "python"
    }
  },
  "cells": [
    {
      "cell_type": "code",
      "metadata": {
        "colab": {
          "base_uri": "https://localhost:8080/",
          "height": 128
        },
        "id": "b7TdPFNjpb_b",
        "outputId": "8943ec96-11c2-4a9c-e67c-ea5f5abead0d"
      },
      "source": [
        "x=4\n",
        "y=2\n",
        "print(x+12)**2-y**3)//9\n"
      ],
      "execution_count": 12,
      "outputs": [
        {
          "output_type": "error",
          "ename": "SyntaxError",
          "evalue": "ignored",
          "traceback": [
            "\u001b[0;36m  File \u001b[0;32m\"<ipython-input-12-d24c018ec7b4>\"\u001b[0;36m, line \u001b[0;32m3\u001b[0m\n\u001b[0;31m    print(x+12)**2-y**3)//9\u001b[0m\n\u001b[0m                       ^\u001b[0m\n\u001b[0;31mSyntaxError\u001b[0m\u001b[0;31m:\u001b[0m invalid syntax\n"
          ]
        }
      ]
    },
    {
      "cell_type": "code",
      "metadata": {
        "colab": {
          "base_uri": "https://localhost:8080/"
        },
        "id": "cBnOindfxBNf",
        "outputId": "c5ed6db9-aa36-409c-f9bd-2ca200d3e7c2"
      },
      "source": [
        "str1=\"coca\"\n",
        "str2=\"cola\"\n",
        "print(\"str1+str2=\",str1+\"\",str2)\n",
        "str3=str1+str2\n",
        "print(len(str3)) #8 ya fourat \n",
        "print(str1[1:3]+str2[1:3])\n",
        "print(len(str1))\n"
      ],
      "execution_count": 28,
      "outputs": [
        {
          "output_type": "stream",
          "name": "stdout",
          "text": [
            "str1+str2= coca cola\n",
            "8\n",
            "ocol\n",
            "4\n"
          ]
        }
      ]
    },
    {
      "cell_type": "code",
      "metadata": {
        "colab": {
          "base_uri": "https://localhost:8080/"
        },
        "id": "KV3YHeng2LX9",
        "outputId": "5a46fa14-88b4-4366-f6b4-8ce89b48e9a0"
      },
      "source": [
        "str=\"nassim\"\n",
        "if len(str)<-2:\n",
        "  print(\"nassim mouch rajil\")\n",
        "else :\n",
        "  print(\"nassim rajel\")"
      ],
      "execution_count": 40,
      "outputs": [
        {
          "output_type": "stream",
          "name": "stdout",
          "text": [
            "nassim rajel\n"
          ]
        }
      ]
    }
  ]
}